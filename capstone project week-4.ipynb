{
 "cells": [
  {
   "cell_type": "markdown",
   "metadata": {
    "collapsed": true
   },
   "source": [
    "# capstone project part-1 (week4)"
   ]
  },
  {
   "cell_type": "markdown",
   "metadata": {},
   "source": [
    "## Description of problem"
   ]
  },
  {
   "cell_type": "markdown",
   "metadata": {},
   "source": [
    "### Business Understanding"
   ]
  },
  {
   "cell_type": "markdown",
   "metadata": {},
   "source": [
    "- Problem brought up by Client -\n",
    "  Which City and Locality is best to open a Casino/Shopping mall in USA?\n",
    "\n",
    "+Background My client is a successful Entrepreneur in Asia and now he wants to expand his Business in other countries. He wants to open a Casiono/Shopping Mall in USA but not sure in which City and Locality he should open the Mall and be Succeessful."
   ]
  },
  {
   "cell_type": "markdown",
   "metadata": {},
   "source": [
    "### Analytical Approach"
   ]
  },
  {
   "cell_type": "markdown",
   "metadata": {},
   "source": [
    "According to the need of client first we have to find the City and then the Locality in that city for Business. To solve this particular problem and to gather data we will set few Benchmarks for the City and the locality in which opening a Casino/Shopping Mall would be Successful.\n",
    "\n",
    "1. For discovering the City following benchmarks must meet\n",
    "   - Nightlife\n",
    "   - Services\n",
    "   - Transport\n",
    "   - Residence\n",
    "   - Universities\n",
    "   - Food\n",
    "   - Entertainment\n",
    "   - Travel\n",
    "   - Outdoor Activities\n",
    "2. Benchmarks for the Locality in City\n",
    "   - Per Capita Income\n",
    "   - Population\n",
    "   - Population Density\n",
    "   - Venues"
   ]
  },
  {
   "cell_type": "markdown",
   "metadata": {},
   "source": [
    "## Data requirements and description"
   ]
  },
  {
   "cell_type": "markdown",
   "metadata": {},
   "source": [
    "Data that will be required for solving the problem\n",
    "\n",
    "  - List of all the cities in United States with population density and coordinates\n",
    "  - List of all the cities in United States with Per Capita Income\n",
    "  - List of all venues in each city\n",
    "  - List of all venues in each locality in the selected city"
   ]
  },
  {
   "cell_type": "markdown",
   "metadata": {},
   "source": [
    "### source of data"
   ]
  },
  {
   "cell_type": "markdown",
   "metadata": {},
   "source": [
    "**Wikipedia**\n",
    "\n",
    "- https://en.wikipedia.org/wiki/List_of_United_States_cities_by_population\n",
    "- https://en.wikipedia.org/wiki/List_of_United_States_counties_by_per_capita_income\n",
    "\n",
    "**FourSquare API**\n",
    "\n",
    "- For Venues in CIty and in Each locality in selected city."
   ]
  },
  {
   "cell_type": "markdown",
   "metadata": {},
   "source": [
    "### Data Description (How to use Data to solve the Problem?)"
   ]
  },
  {
   "cell_type": "markdown",
   "metadata": {},
   "source": [
    "By Using the Wikipedia data we will first analyse the data and then focus on certain benchmarks to discover the best City in USA to open a Casino/Shopping mall. Then by leveraging the Foursquare data we will compare and try to find the best locality. Based on Scores we will try to determine the Locality in simillar way."
   ]
  }
 ],
 "metadata": {
  "kernelspec": {
   "display_name": "Python 3.6",
   "language": "python",
   "name": "python3"
  },
  "language_info": {
   "codemirror_mode": {
    "name": "ipython",
    "version": 3
   },
   "file_extension": ".py",
   "mimetype": "text/x-python",
   "name": "python",
   "nbconvert_exporter": "python",
   "pygments_lexer": "ipython3",
   "version": "3.6.8"
  }
 },
 "nbformat": 4,
 "nbformat_minor": 1
}
